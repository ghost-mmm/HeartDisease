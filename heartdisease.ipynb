{
 "cells": [
  {
   "cell_type": "code",
   "execution_count": 1,
   "id": "foster-international",
   "metadata": {
    "_cell_guid": "b1076dfc-b9ad-4769-8c92-a6c4dae69d19",
    "_uuid": "8f2839f25d086af736a60e9eeb907d3b93b6e0e5",
    "execution": {
     "iopub.execute_input": "2021-06-30T14:18:51.398041Z",
     "iopub.status.busy": "2021-06-30T14:18:51.396797Z",
     "iopub.status.idle": "2021-06-30T14:18:51.400566Z",
     "shell.execute_reply": "2021-06-30T14:18:51.399905Z",
     "shell.execute_reply.started": "2021-06-30T13:54:58.568678Z"
    },
    "papermill": {
     "duration": 0.039227,
     "end_time": "2021-06-30T14:18:51.400907",
     "exception": true,
     "start_time": "2021-06-30T14:18:51.361680",
     "status": "failed"
    },
    "tags": []
   },
   "outputs": [
    {
     "ename": "SyntaxError",
     "evalue": "invalid syntax (<ipython-input-1-aecf4611a5a4>, line 1)",
     "output_type": "error",
     "traceback": [
      "\u001b[0;36m  File \u001b[0;32m\"<ipython-input-1-aecf4611a5a4>\"\u001b[0;36m, line \u001b[0;32m1\u001b[0m\n\u001b[0;31m    Heart Disease Prediction using Logistic Regression.\u001b[0m\n\u001b[0m                ^\u001b[0m\n\u001b[0;31mSyntaxError\u001b[0m\u001b[0;31m:\u001b[0m invalid syntax\n"
     ]
    }
   ],
   "source": [
    "Heart Disease Prediction using Logistic Regression."
   ]
  },
  {
   "cell_type": "code",
   "execution_count": null,
   "id": "middle-movement",
   "metadata": {
    "execution": {
     "iopub.status.busy": "2021-06-30T13:54:58.578970Z",
     "iopub.status.idle": "2021-06-30T13:54:58.579619Z"
    },
    "papermill": {
     "duration": null,
     "end_time": null,
     "exception": null,
     "start_time": null,
     "status": "pending"
    },
    "tags": []
   },
   "outputs": [],
   "source": [
    "import numpy as np\n",
    "import pandas as pd\n",
    "import matplotlib.pyplot as plt\n",
    "import seaborn as sns\n",
    "from sklearn.linear_model import LogisticRegression\n",
    "from sklearn.model_selection import train_test_split\n",
    "import os\n",
    "print(os.listdir(\"../input\"))"
   ]
  },
  {
   "cell_type": "code",
   "execution_count": null,
   "id": "worthy-zimbabwe",
   "metadata": {
    "execution": {
     "iopub.execute_input": "2021-06-30T13:55:30.415654Z",
     "iopub.status.busy": "2021-06-30T13:55:30.415274Z",
     "iopub.status.idle": "2021-06-30T13:55:30.431448Z",
     "shell.execute_reply": "2021-06-30T13:55:30.430198Z",
     "shell.execute_reply.started": "2021-06-30T13:55:30.415621Z"
    },
    "papermill": {
     "duration": null,
     "end_time": null,
     "exception": null,
     "start_time": null,
     "status": "pending"
    },
    "tags": []
   },
   "outputs": [],
   "source": [
    "df=pd.read_csv(\"../input/heart-attack-analysis-prediction-dataset/heart.csv\")\n"
   ]
  },
  {
   "cell_type": "code",
   "execution_count": null,
   "id": "critical-detective",
   "metadata": {
    "execution": {
     "iopub.execute_input": "2021-06-30T13:55:36.235988Z",
     "iopub.status.busy": "2021-06-30T13:55:36.235621Z",
     "iopub.status.idle": "2021-06-30T13:55:36.253166Z",
     "shell.execute_reply": "2021-06-30T13:55:36.251485Z",
     "shell.execute_reply.started": "2021-06-30T13:55:36.235955Z"
    },
    "papermill": {
     "duration": null,
     "end_time": null,
     "exception": null,
     "start_time": null,
     "status": "pending"
    },
    "tags": []
   },
   "outputs": [],
   "source": [
    "#first 5 rows of our dataset\n",
    "df.head()"
   ]
  },
  {
   "cell_type": "markdown",
   "id": "phantom-facility",
   "metadata": {
    "papermill": {
     "duration": null,
     "end_time": null,
     "exception": null,
     "start_time": null,
     "status": "pending"
    },
    "tags": []
   },
   "source": [
    "DATA EXPLORATION"
   ]
  },
  {
   "cell_type": "code",
   "execution_count": null,
   "id": "varying-replacement",
   "metadata": {
    "execution": {
     "iopub.execute_input": "2021-06-30T13:55:42.192550Z",
     "iopub.status.busy": "2021-06-30T13:55:42.192151Z",
     "iopub.status.idle": "2021-06-30T13:55:42.220566Z",
     "shell.execute_reply": "2021-06-30T13:55:42.219226Z",
     "shell.execute_reply.started": "2021-06-30T13:55:42.192518Z"
    },
    "papermill": {
     "duration": null,
     "end_time": null,
     "exception": null,
     "start_time": null,
     "status": "pending"
    },
    "tags": []
   },
   "outputs": [],
   "source": [
    "df.value_counts()"
   ]
  },
  {
   "cell_type": "code",
   "execution_count": null,
   "id": "vital-cocktail",
   "metadata": {
    "execution": {
     "iopub.execute_input": "2021-06-30T13:55:54.255385Z",
     "iopub.status.busy": "2021-06-30T13:55:54.254980Z",
     "iopub.status.idle": "2021-06-30T13:55:54.428484Z",
     "shell.execute_reply": "2021-06-30T13:55:54.427328Z",
     "shell.execute_reply.started": "2021-06-30T13:55:54.255346Z"
    },
    "papermill": {
     "duration": null,
     "end_time": null,
     "exception": null,
     "start_time": null,
     "status": "pending"
    },
    "tags": []
   },
   "outputs": [],
   "source": [
    "sns.countplot(x=\"output\", data=df, palette=\"bwr\")\n",
    "plt.show()"
   ]
  },
  {
   "cell_type": "code",
   "execution_count": null,
   "id": "tested-choir",
   "metadata": {
    "execution": {
     "iopub.execute_input": "2021-06-30T13:57:11.774177Z",
     "iopub.status.busy": "2021-06-30T13:57:11.773590Z",
     "iopub.status.idle": "2021-06-30T13:57:11.784081Z",
     "shell.execute_reply": "2021-06-30T13:57:11.782339Z",
     "shell.execute_reply.started": "2021-06-30T13:57:11.774141Z"
    },
    "papermill": {
     "duration": null,
     "end_time": null,
     "exception": null,
     "start_time": null,
     "status": "pending"
    },
    "tags": []
   },
   "outputs": [],
   "source": [
    "countNoDisease = len(df[df.output == 0])\n",
    "countHaveDisease = len(df[df.output == 1])\n",
    "print(\"Percentage of Patients who don't have Heart Disease: {:.2f}%\".format((countNoDisease / (len(df.output))*100)))\n",
    "print(\"Percentage of Patients who have Heart Disease: {:.2f}%\".format((countHaveDisease / (len(df.output))*100)))"
   ]
  },
  {
   "cell_type": "code",
   "execution_count": null,
   "id": "imperial-debate",
   "metadata": {
    "execution": {
     "iopub.execute_input": "2021-06-30T13:57:28.210886Z",
     "iopub.status.busy": "2021-06-30T13:57:28.210496Z",
     "iopub.status.idle": "2021-06-30T13:57:28.341163Z",
     "shell.execute_reply": "2021-06-30T13:57:28.340381Z",
     "shell.execute_reply.started": "2021-06-30T13:57:28.210846Z"
    },
    "papermill": {
     "duration": null,
     "end_time": null,
     "exception": null,
     "start_time": null,
     "status": "pending"
    },
    "tags": []
   },
   "outputs": [],
   "source": [
    "sns.countplot(x='sex', data=df, palette=\"mako_r\")\n",
    "plt.xlabel(\"Sex (0 = female, 1= male)\")\n",
    "plt.show()"
   ]
  },
  {
   "cell_type": "code",
   "execution_count": null,
   "id": "substantial-attitude",
   "metadata": {
    "execution": {
     "iopub.execute_input": "2021-06-30T13:57:51.658149Z",
     "iopub.status.busy": "2021-06-30T13:57:51.657552Z",
     "iopub.status.idle": "2021-06-30T13:57:51.668939Z",
     "shell.execute_reply": "2021-06-30T13:57:51.667936Z",
     "shell.execute_reply.started": "2021-06-30T13:57:51.658100Z"
    },
    "papermill": {
     "duration": null,
     "end_time": null,
     "exception": null,
     "start_time": null,
     "status": "pending"
    },
    "tags": []
   },
   "outputs": [],
   "source": [
    "countFemale = len(df[df.sex == 0])\n",
    "countMale = len(df[df.sex == 1])\n",
    "print(\"Percentage of Female Patients: {:.2f}%\".format((countFemale / (len(df.sex))*100)))\n",
    "print(\"Percentage of Male Patients: {:.2f}%\".format((countMale / (len(df.sex))*100)))\n"
   ]
  },
  {
   "cell_type": "code",
   "execution_count": null,
   "id": "numerous-worry",
   "metadata": {
    "execution": {
     "iopub.execute_input": "2021-06-30T13:58:12.104446Z",
     "iopub.status.busy": "2021-06-30T13:58:12.104063Z",
     "iopub.status.idle": "2021-06-30T13:58:12.126450Z",
     "shell.execute_reply": "2021-06-30T13:58:12.125365Z",
     "shell.execute_reply.started": "2021-06-30T13:58:12.104415Z"
    },
    "papermill": {
     "duration": null,
     "end_time": null,
     "exception": null,
     "start_time": null,
     "status": "pending"
    },
    "tags": []
   },
   "outputs": [],
   "source": [
    "df.groupby('output').mean()"
   ]
  },
  {
   "cell_type": "code",
   "execution_count": null,
   "id": "reserved-grocery",
   "metadata": {
    "execution": {
     "iopub.execute_input": "2021-06-30T13:59:11.406152Z",
     "iopub.status.busy": "2021-06-30T13:59:11.405580Z",
     "iopub.status.idle": "2021-06-30T13:59:12.143736Z",
     "shell.execute_reply": "2021-06-30T13:59:12.142796Z",
     "shell.execute_reply.started": "2021-06-30T13:59:11.406116Z"
    },
    "papermill": {
     "duration": null,
     "end_time": null,
     "exception": null,
     "start_time": null,
     "status": "pending"
    },
    "tags": []
   },
   "outputs": [],
   "source": [
    "pd.crosstab(df.age,df.output).plot(kind=\"bar\",figsize=(20,6))\n",
    "plt.title('Heart Disease Frequency for Ages')\n",
    "plt.xlabel('Age')\n",
    "plt.ylabel('Frequency')\n",
    "plt.show()"
   ]
  },
  {
   "cell_type": "code",
   "execution_count": null,
   "id": "operating-collection",
   "metadata": {
    "execution": {
     "iopub.execute_input": "2021-06-30T14:00:01.698379Z",
     "iopub.status.busy": "2021-06-30T14:00:01.697974Z",
     "iopub.status.idle": "2021-06-30T14:00:01.925693Z",
     "shell.execute_reply": "2021-06-30T14:00:01.923815Z",
     "shell.execute_reply.started": "2021-06-30T14:00:01.698343Z"
    },
    "papermill": {
     "duration": null,
     "end_time": null,
     "exception": null,
     "start_time": null,
     "status": "pending"
    },
    "tags": []
   },
   "outputs": [],
   "source": [
    "pd.crosstab(df.sex,df.output).plot(kind=\"bar\",figsize=(15,6),color=['#1CA53B','#AA1111' ])\n",
    "plt.title('Heart Disease Frequency for Sex')\n",
    "plt.xlabel('Sex (0 = Female, 1 = Male)')\n",
    "plt.xticks(rotation=0)\n",
    "plt.legend([\"Don't have Heart Disease\", \"Have Disease\"])\n",
    "plt.ylabel('Frequency')\n",
    "plt.show()"
   ]
  },
  {
   "cell_type": "code",
   "execution_count": null,
   "id": "suspected-spirituality",
   "metadata": {
    "execution": {
     "iopub.execute_input": "2021-06-30T14:01:10.311085Z",
     "iopub.status.busy": "2021-06-30T14:01:10.310711Z",
     "iopub.status.idle": "2021-06-30T14:01:10.542347Z",
     "shell.execute_reply": "2021-06-30T14:01:10.541052Z",
     "shell.execute_reply.started": "2021-06-30T14:01:10.311045Z"
    },
    "papermill": {
     "duration": null,
     "end_time": null,
     "exception": null,
     "start_time": null,
     "status": "pending"
    },
    "tags": []
   },
   "outputs": [],
   "source": [
    "plt.scatter(x=df.age[df.output==1], y=df.thalachh[(df.output==1)], c=\"red\")\n",
    "plt.scatter(x=df.age[df.output==0], y=df.thalachh[(df.output==0)])\n",
    "plt.legend([\"Disease\", \"Not Disease\"])\n",
    "plt.xlabel(\"Age\")\n",
    "plt.ylabel(\"Maximum Heart Rate\")\n",
    "plt.show()"
   ]
  },
  {
   "cell_type": "code",
   "execution_count": null,
   "id": "accompanied-debate",
   "metadata": {
    "execution": {
     "iopub.execute_input": "2021-06-30T14:02:48.860141Z",
     "iopub.status.busy": "2021-06-30T14:02:48.859535Z",
     "iopub.status.idle": "2021-06-30T14:02:49.099662Z",
     "shell.execute_reply": "2021-06-30T14:02:49.098684Z",
     "shell.execute_reply.started": "2021-06-30T14:02:48.860100Z"
    },
    "papermill": {
     "duration": null,
     "end_time": null,
     "exception": null,
     "start_time": null,
     "status": "pending"
    },
    "tags": []
   },
   "outputs": [],
   "source": [
    "pd.crosstab(df.fbs,df.output).plot(kind=\"bar\",figsize=(15,6),color=['#FFC300','#581845' ])\n",
    "plt.title('Heart Disease Frequency According To FBS')\n",
    "plt.xlabel('FBS - (Fasting Blood Sugar > 120 mg/dl) (1 = true; 0 = false)')\n",
    "plt.xticks(rotation = 0)\n",
    "plt.legend([\"Haven't Disease\", \"Have Disease\"])\n",
    "plt.ylabel('Frequency of Disease or Not')\n",
    "plt.show()"
   ]
  },
  {
   "cell_type": "code",
   "execution_count": null,
   "id": "synthetic-philosophy",
   "metadata": {
    "execution": {
     "iopub.execute_input": "2021-06-30T14:03:09.548957Z",
     "iopub.status.busy": "2021-06-30T14:03:09.548295Z",
     "iopub.status.idle": "2021-06-30T14:03:09.788488Z",
     "shell.execute_reply": "2021-06-30T14:03:09.787114Z",
     "shell.execute_reply.started": "2021-06-30T14:03:09.548911Z"
    },
    "papermill": {
     "duration": null,
     "end_time": null,
     "exception": null,
     "start_time": null,
     "status": "pending"
    },
    "tags": []
   },
   "outputs": [],
   "source": [
    "pd.crosstab(df.cp,df.output).plot(kind=\"bar\",figsize=(15,6),color=['#11A5AA','#AA1190' ])\n",
    "plt.title('Heart Disease Frequency According To Chest Pain Type')\n",
    "plt.xlabel('Chest Pain Type')\n",
    "plt.xticks(rotation = 0)\n",
    "plt.ylabel('Frequency of Disease or Not')\n",
    "plt.show()"
   ]
  },
  {
   "cell_type": "code",
   "execution_count": null,
   "id": "designing-essence",
   "metadata": {
    "execution": {
     "iopub.execute_input": "2021-06-30T14:04:44.663999Z",
     "iopub.status.busy": "2021-06-30T14:04:44.663625Z",
     "iopub.status.idle": "2021-06-30T14:04:44.673314Z",
     "shell.execute_reply": "2021-06-30T14:04:44.672328Z",
     "shell.execute_reply.started": "2021-06-30T14:04:44.663968Z"
    },
    "papermill": {
     "duration": null,
     "end_time": null,
     "exception": null,
     "start_time": null,
     "status": "pending"
    },
    "tags": []
   },
   "outputs": [],
   "source": [
    "#creating dummy variables\n",
    "a = pd.get_dummies(df['cp'], prefix = \"cp\")\n",
    "b = pd.get_dummies(df['thall'], prefix = \"thal\")\n",
    "c = pd.get_dummies(df['slp'], prefix = \"slope\")"
   ]
  },
  {
   "cell_type": "markdown",
   "id": "ordered-farming",
   "metadata": {
    "papermill": {
     "duration": null,
     "end_time": null,
     "exception": null,
     "start_time": null,
     "status": "pending"
    },
    "tags": []
   },
   "source": [
    "Here, we have created dummies for categorical variables"
   ]
  },
  {
   "cell_type": "code",
   "execution_count": null,
   "id": "swiss-mixture",
   "metadata": {
    "execution": {
     "iopub.execute_input": "2021-06-30T14:05:29.139353Z",
     "iopub.status.busy": "2021-06-30T14:05:29.138599Z",
     "iopub.status.idle": "2021-06-30T14:05:29.163625Z",
     "shell.execute_reply": "2021-06-30T14:05:29.162699Z",
     "shell.execute_reply.started": "2021-06-30T14:05:29.139291Z"
    },
    "papermill": {
     "duration": null,
     "end_time": null,
     "exception": null,
     "start_time": null,
     "status": "pending"
    },
    "tags": []
   },
   "outputs": [],
   "source": [
    "frames = [df, a, b, c]\n",
    "df = pd.concat(frames, axis = 1)\n",
    "df.head()"
   ]
  },
  {
   "cell_type": "code",
   "execution_count": null,
   "id": "specialized-straight",
   "metadata": {
    "execution": {
     "iopub.execute_input": "2021-06-30T14:05:53.265444Z",
     "iopub.status.busy": "2021-06-30T14:05:53.265056Z",
     "iopub.status.idle": "2021-06-30T14:05:53.291889Z",
     "shell.execute_reply": "2021-06-30T14:05:53.290658Z",
     "shell.execute_reply.started": "2021-06-30T14:05:53.265412Z"
    },
    "papermill": {
     "duration": null,
     "end_time": null,
     "exception": null,
     "start_time": null,
     "status": "pending"
    },
    "tags": []
   },
   "outputs": [],
   "source": [
    "df = df.drop(columns = ['cp', 'thall', 'slp'])\n",
    "df.head()"
   ]
  },
  {
   "cell_type": "markdown",
   "id": "golden-short",
   "metadata": {
    "papermill": {
     "duration": null,
     "end_time": null,
     "exception": null,
     "start_time": null,
     "status": "pending"
    },
    "tags": []
   },
   "source": [
    "Three columns of categorical variables have been dropped."
   ]
  },
  {
   "cell_type": "markdown",
   "id": "productive-rwanda",
   "metadata": {
    "papermill": {
     "duration": null,
     "end_time": null,
     "exception": null,
     "start_time": null,
     "status": "pending"
    },
    "tags": []
   },
   "source": [
    "**LOGISTIC REGRESSION MODEL**"
   ]
  },
  {
   "cell_type": "code",
   "execution_count": null,
   "id": "exposed-height",
   "metadata": {
    "execution": {
     "iopub.execute_input": "2021-06-30T14:07:12.044854Z",
     "iopub.status.busy": "2021-06-30T14:07:12.044500Z",
     "iopub.status.idle": "2021-06-30T14:07:12.051312Z",
     "shell.execute_reply": "2021-06-30T14:07:12.049951Z",
     "shell.execute_reply.started": "2021-06-30T14:07:12.044824Z"
    },
    "papermill": {
     "duration": null,
     "end_time": null,
     "exception": null,
     "start_time": null,
     "status": "pending"
    },
    "tags": []
   },
   "outputs": [],
   "source": [
    "y = df.output.values\n",
    "x_data = df.drop(['output'], axis = 1)"
   ]
  },
  {
   "cell_type": "code",
   "execution_count": null,
   "id": "sunrise-conclusion",
   "metadata": {
    "execution": {
     "iopub.execute_input": "2021-06-30T14:07:40.795268Z",
     "iopub.status.busy": "2021-06-30T14:07:40.794879Z",
     "iopub.status.idle": "2021-06-30T14:07:40.808489Z",
     "shell.execute_reply": "2021-06-30T14:07:40.806849Z",
     "shell.execute_reply.started": "2021-06-30T14:07:40.795226Z"
    },
    "papermill": {
     "duration": null,
     "end_time": null,
     "exception": null,
     "start_time": null,
     "status": "pending"
    },
    "tags": []
   },
   "outputs": [],
   "source": [
    "#Normalizing data\n",
    "x = (x_data - np.min(x_data)) / (np.max(x_data) - np.min(x_data)).values"
   ]
  },
  {
   "cell_type": "markdown",
   "id": "printable-beatles",
   "metadata": {
    "papermill": {
     "duration": null,
     "end_time": null,
     "exception": null,
     "start_time": null,
     "status": "pending"
    },
    "tags": []
   },
   "source": [
    "Splitting our dataset for training (80%) and testing (20%)"
   ]
  },
  {
   "cell_type": "code",
   "execution_count": null,
   "id": "imperial-investing",
   "metadata": {
    "execution": {
     "iopub.execute_input": "2021-06-30T14:08:22.246562Z",
     "iopub.status.busy": "2021-06-30T14:08:22.246174Z",
     "iopub.status.idle": "2021-06-30T14:08:22.255701Z",
     "shell.execute_reply": "2021-06-30T14:08:22.254234Z",
     "shell.execute_reply.started": "2021-06-30T14:08:22.246531Z"
    },
    "papermill": {
     "duration": null,
     "end_time": null,
     "exception": null,
     "start_time": null,
     "status": "pending"
    },
    "tags": []
   },
   "outputs": [],
   "source": [
    "x_train, x_test, y_train, y_test = train_test_split(x,y,test_size = 0.2,random_state=0)"
   ]
  },
  {
   "cell_type": "code",
   "execution_count": null,
   "id": "suburban-pasta",
   "metadata": {
    "execution": {
     "iopub.execute_input": "2021-06-30T14:08:34.351442Z",
     "iopub.status.busy": "2021-06-30T14:08:34.350956Z",
     "iopub.status.idle": "2021-06-30T14:08:34.358136Z",
     "shell.execute_reply": "2021-06-30T14:08:34.356600Z",
     "shell.execute_reply.started": "2021-06-30T14:08:34.351404Z"
    },
    "papermill": {
     "duration": null,
     "end_time": null,
     "exception": null,
     "start_time": null,
     "status": "pending"
    },
    "tags": []
   },
   "outputs": [],
   "source": [
    "#transpose matrices\n",
    "x_train = x_train.T\n",
    "y_train = y_train.T\n",
    "x_test = x_test.T\n",
    "y_test = y_test.T"
   ]
  },
  {
   "cell_type": "markdown",
   "id": "consistent-tracy",
   "metadata": {
    "papermill": {
     "duration": null,
     "end_time": null,
     "exception": null,
     "start_time": null,
     "status": "pending"
    },
    "tags": []
   },
   "source": [
    "Let's say weight = 0.01 and bias = 0.0"
   ]
  },
  {
   "cell_type": "code",
   "execution_count": null,
   "id": "emotional-utility",
   "metadata": {
    "execution": {
     "iopub.execute_input": "2021-06-30T14:09:00.345605Z",
     "iopub.status.busy": "2021-06-30T14:09:00.345068Z",
     "iopub.status.idle": "2021-06-30T14:09:00.350476Z",
     "shell.execute_reply": "2021-06-30T14:09:00.349301Z",
     "shell.execute_reply.started": "2021-06-30T14:09:00.345570Z"
    },
    "papermill": {
     "duration": null,
     "end_time": null,
     "exception": null,
     "start_time": null,
     "status": "pending"
    },
    "tags": []
   },
   "outputs": [],
   "source": [
    "#initialize\n",
    "def initialize(dimension):\n",
    "    \n",
    "    weight = np.full((dimension,1),0.01)\n",
    "    bias = 0.0\n",
    "    return weight,bias"
   ]
  },
  {
   "cell_type": "code",
   "execution_count": null,
   "id": "therapeutic-campus",
   "metadata": {
    "execution": {
     "iopub.execute_input": "2021-06-30T14:09:13.479011Z",
     "iopub.status.busy": "2021-06-30T14:09:13.478632Z",
     "iopub.status.idle": "2021-06-30T14:09:13.485056Z",
     "shell.execute_reply": "2021-06-30T14:09:13.483495Z",
     "shell.execute_reply.started": "2021-06-30T14:09:13.478979Z"
    },
    "papermill": {
     "duration": null,
     "end_time": null,
     "exception": null,
     "start_time": null,
     "status": "pending"
    },
    "tags": []
   },
   "outputs": [],
   "source": [
    "def sigmoid(z):\n",
    "    \n",
    "    y_head = 1/(1+ np.exp(-z))\n",
    "    return y_head"
   ]
  },
  {
   "cell_type": "code",
   "execution_count": null,
   "id": "floral-october",
   "metadata": {
    "execution": {
     "iopub.execute_input": "2021-06-30T14:09:40.059932Z",
     "iopub.status.busy": "2021-06-30T14:09:40.059529Z",
     "iopub.status.idle": "2021-06-30T14:09:40.067836Z",
     "shell.execute_reply": "2021-06-30T14:09:40.066469Z",
     "shell.execute_reply.started": "2021-06-30T14:09:40.059896Z"
    },
    "papermill": {
     "duration": null,
     "end_time": null,
     "exception": null,
     "start_time": null,
     "status": "pending"
    },
    "tags": []
   },
   "outputs": [],
   "source": [
    "def forwardBackward(weight,bias,x_train,y_train):\n",
    "    # Forward\n",
    "    \n",
    "    y_head = sigmoid(np.dot(weight.T,x_train) + bias)\n",
    "    loss = -(y_train*np.log(y_head) + (1-y_train)*np.log(1-y_head))\n",
    "    cost = np.sum(loss) / x_train.shape[1]\n",
    "    \n",
    "    # Backward\n",
    "    derivative_weight = np.dot(x_train,((y_head-y_train).T))/x_train.shape[1]\n",
    "    derivative_bias = np.sum(y_head-y_train)/x_train.shape[1]\n",
    "    gradients = {\"Derivative Weight\" : derivative_weight, \"Derivative Bias\" : derivative_bias}\n",
    "    \n",
    "    return cost,gradients"
   ]
  },
  {
   "cell_type": "code",
   "execution_count": null,
   "id": "delayed-practice",
   "metadata": {
    "execution": {
     "iopub.execute_input": "2021-06-30T14:10:19.858335Z",
     "iopub.status.busy": "2021-06-30T14:10:19.857971Z",
     "iopub.status.idle": "2021-06-30T14:10:19.866033Z",
     "shell.execute_reply": "2021-06-30T14:10:19.865020Z",
     "shell.execute_reply.started": "2021-06-30T14:10:19.858304Z"
    },
    "papermill": {
     "duration": null,
     "end_time": null,
     "exception": null,
     "start_time": null,
     "status": "pending"
    },
    "tags": []
   },
   "outputs": [],
   "source": [
    "def update(weight,bias,x_train,y_train,learningRate,iteration) :\n",
    "    costList = []\n",
    "    index = []\n",
    "    \n",
    "    #for each iteration, update weight and bias values\n",
    "    for i in range(iteration):\n",
    "        cost,gradients = forwardBackward(weight,bias,x_train,y_train)\n",
    "        weight = weight - learningRate * gradients[\"Derivative Weight\"]\n",
    "        bias = bias - learningRate * gradients[\"Derivative Bias\"]\n",
    "        \n",
    "        costList.append(cost)\n",
    "        index.append(i)\n",
    "\n",
    "    parameters = {\"weight\": weight,\"bias\": bias}\n",
    "    \n",
    "    print(\"iteration:\",iteration)\n",
    "    print(\"cost:\",cost)\n",
    "\n",
    "    plt.plot(index,costList)\n",
    "    plt.xlabel(\"Number of Iteration\")\n",
    "    plt.ylabel(\"Cost\")\n",
    "    plt.show()\n",
    "    return parameters, gradients"
   ]
  },
  {
   "cell_type": "code",
   "execution_count": null,
   "id": "christian-jewelry",
   "metadata": {
    "execution": {
     "iopub.execute_input": "2021-06-30T14:10:32.419745Z",
     "iopub.status.busy": "2021-06-30T14:10:32.419280Z",
     "iopub.status.idle": "2021-06-30T14:10:32.427735Z",
     "shell.execute_reply": "2021-06-30T14:10:32.426394Z",
     "shell.execute_reply.started": "2021-06-30T14:10:32.419706Z"
    },
    "papermill": {
     "duration": null,
     "end_time": null,
     "exception": null,
     "start_time": null,
     "status": "pending"
    },
    "tags": []
   },
   "outputs": [],
   "source": [
    "def predict(weight,bias,x_test):\n",
    "    z = np.dot(weight.T,x_test) + bias\n",
    "    y_head = sigmoid(z)\n",
    "\n",
    "    y_prediction = np.zeros((1,x_test.shape[1]))\n",
    "    \n",
    "    for i in range(y_head.shape[1]):\n",
    "        if y_head[0,i] <= 0.5:\n",
    "            y_prediction[0,i] = 0\n",
    "        else:\n",
    "            y_prediction[0,i] = 1\n",
    "    return y_prediction"
   ]
  },
  {
   "cell_type": "code",
   "execution_count": null,
   "id": "growing-structure",
   "metadata": {
    "execution": {
     "iopub.execute_input": "2021-06-30T14:10:44.133945Z",
     "iopub.status.busy": "2021-06-30T14:10:44.133433Z",
     "iopub.status.idle": "2021-06-30T14:10:44.140034Z",
     "shell.execute_reply": "2021-06-30T14:10:44.139121Z",
     "shell.execute_reply.started": "2021-06-30T14:10:44.133901Z"
    },
    "papermill": {
     "duration": null,
     "end_time": null,
     "exception": null,
     "start_time": null,
     "status": "pending"
    },
    "tags": []
   },
   "outputs": [],
   "source": [
    "def logistic_regression(x_train,y_train,x_test,y_test,learningRate,iteration):\n",
    "    dimension = x_train.shape[0]\n",
    "    weight,bias = initialize(dimension)\n",
    "    \n",
    "    parameters, gradients = update(weight,bias,x_train,y_train,learningRate,iteration)\n",
    "\n",
    "    y_prediction = predict(parameters[\"weight\"],parameters[\"bias\"],x_test)\n",
    "    \n",
    "    print(\"Manuel Test Accuracy: {:.2f}%\".format((100 - np.mean(np.abs(y_prediction - y_test))*100)))"
   ]
  },
  {
   "cell_type": "code",
   "execution_count": null,
   "id": "intensive-radio",
   "metadata": {
    "execution": {
     "iopub.execute_input": "2021-06-30T14:10:56.821967Z",
     "iopub.status.busy": "2021-06-30T14:10:56.821581Z",
     "iopub.status.idle": "2021-06-30T14:10:57.023693Z",
     "shell.execute_reply": "2021-06-30T14:10:57.022537Z",
     "shell.execute_reply.started": "2021-06-30T14:10:56.821937Z"
    },
    "papermill": {
     "duration": null,
     "end_time": null,
     "exception": null,
     "start_time": null,
     "status": "pending"
    },
    "tags": []
   },
   "outputs": [],
   "source": [
    "logistic_regression(x_train,y_train,x_test,y_test,1,100)"
   ]
  },
  {
   "cell_type": "code",
   "execution_count": null,
   "id": "placed-photograph",
   "metadata": {
    "execution": {
     "iopub.execute_input": "2021-06-30T14:11:24.890146Z",
     "iopub.status.busy": "2021-06-30T14:11:24.889640Z",
     "iopub.status.idle": "2021-06-30T14:11:24.920716Z",
     "shell.execute_reply": "2021-06-30T14:11:24.919318Z",
     "shell.execute_reply.started": "2021-06-30T14:11:24.890114Z"
    },
    "papermill": {
     "duration": null,
     "end_time": null,
     "exception": null,
     "start_time": null,
     "status": "pending"
    },
    "tags": []
   },
   "outputs": [],
   "source": [
    "accuracies = {}\n",
    "\n",
    "lr = LogisticRegression()\n",
    "lr.fit(x_train.T,y_train.T)\n",
    "acc = lr.score(x_test.T,y_test.T)*100\n",
    "\n",
    "accuracies['Logistic Regression'] = acc\n",
    "print(\"Test Accuracy {:.2f}%\".format(acc))"
   ]
  },
  {
   "cell_type": "markdown",
   "id": "wired-thanksgiving",
   "metadata": {
    "papermill": {
     "duration": null,
     "end_time": null,
     "exception": null,
     "start_time": null,
     "status": "pending"
    },
    "tags": []
   },
   "source": [
    "**Accuracy of 86.89% is obtained.**"
   ]
  },
  {
   "cell_type": "markdown",
   "id": "typical-liver",
   "metadata": {
    "papermill": {
     "duration": null,
     "end_time": null,
     "exception": null,
     "start_time": null,
     "status": "pending"
    },
    "tags": []
   },
   "source": []
  },
  {
   "cell_type": "markdown",
   "id": "coupled-nicaragua",
   "metadata": {
    "papermill": {
     "duration": null,
     "end_time": null,
     "exception": null,
     "start_time": null,
     "status": "pending"
    },
    "tags": []
   },
   "source": []
  },
  {
   "cell_type": "markdown",
   "id": "mechanical-western",
   "metadata": {
    "papermill": {
     "duration": null,
     "end_time": null,
     "exception": null,
     "start_time": null,
     "status": "pending"
    },
    "tags": []
   },
   "source": []
  }
 ],
 "metadata": {
  "kernelspec": {
   "display_name": "Python 3",
   "language": "python",
   "name": "python3"
  },
  "language_info": {
   "codemirror_mode": {
    "name": "ipython",
    "version": 3
   },
   "file_extension": ".py",
   "mimetype": "text/x-python",
   "name": "python",
   "nbconvert_exporter": "python",
   "pygments_lexer": "ipython3",
   "version": "3.7.9"
  },
  "papermill": {
   "default_parameters": {},
   "duration": 7.024105,
   "end_time": "2021-06-30T14:18:52.113270",
   "environment_variables": {},
   "exception": true,
   "input_path": "__notebook__.ipynb",
   "output_path": "__notebook__.ipynb",
   "parameters": {},
   "start_time": "2021-06-30T14:18:45.089165",
   "version": "2.3.2"
  }
 },
 "nbformat": 4,
 "nbformat_minor": 5
}
